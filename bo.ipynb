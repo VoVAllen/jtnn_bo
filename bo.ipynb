{
 "cells": [
  {
   "cell_type": "code",
   "execution_count": 17,
   "metadata": {},
   "outputs": [],
   "source": [
    "import matplotlib.gridspec as gridspec\n",
    "import matplotlib.pyplot as plt\n",
    "import torch\n",
    "import torch.autograd as autograd\n",
    "import torch.optim as optim\n",
    "from torch.distributions import constraints, transform_to\n",
    "\n",
    "import pyro\n",
    "import pyro.contrib.gp as gp\n",
    "\n",
    "# assert pyro.__version__.startswith('0.3.1')\n",
    "pyro.enable_validation(True)  # can help with debugging\n",
    "pyro.set_rng_seed(1)"
   ]
  },
  {
   "cell_type": "code",
   "execution_count": 18,
   "metadata": {},
   "outputs": [],
   "source": [
    "def f(x):\n",
    "    return (6 * x.sum(1) - 2)**2 * torch.sin(12 * x.sum(1) - 4)"
   ]
  },
  {
   "cell_type": "code",
   "execution_count": 19,
   "metadata": {},
   "outputs": [],
   "source": [
    "\n",
    "# x = torch.linspace(0, 1)\n",
    "# plt.figure(figsize=(8, 4))\n",
    "# plt.plot(x.numpy(), f(x).numpy())\n",
    "# plt.show()"
   ]
  },
  {
   "cell_type": "code",
   "execution_count": 20,
   "metadata": {},
   "outputs": [],
   "source": [
    "# initialize the model with four input points: 0.0, 0.33, 0.66, 1.0\n",
    "X = torch.tensor([0.0, 0.33, 0.66, 1.0, 0.33, 0.66]).view(3,2)\n",
    "y = f(X)\n",
    "gpmodel = gp.models.GPRegression(X, y, gp.kernels.Matern52(input_dim=2),\n",
    "                                  jitter=1.0e-4)"
   ]
  },
  {
   "cell_type": "code",
   "execution_count": 21,
   "metadata": {},
   "outputs": [],
   "source": [
    "def update_posterior(x_new):\n",
    "    y = f(x_new) # evaluate f at new point.\n",
    "    X = torch.cat([gpmodel.X, x_new]) # incorporate new evaluation\n",
    "    y = torch.cat([gpmodel.y, y])\n",
    "    gpmodel.set_data(X, y)\n",
    "    # optimize the GP hyperparameters using Adam with lr=0.001\n",
    "    optimizer = torch.optim.Adam(gpmodel.parameters(), lr=0.001)\n",
    "    gp.util.train(gpmodel, optimizer)"
   ]
  },
  {
   "cell_type": "code",
   "execution_count": 22,
   "metadata": {},
   "outputs": [],
   "source": [
    "def lower_confidence_bound(x, kappa=2):\n",
    "    mu, variance = gpmodel(x, full_cov=False, noiseless=False)\n",
    "    sigma = variance.sqrt()\n",
    "    return mu - kappa * sigma"
   ]
  },
  {
   "cell_type": "code",
   "execution_count": 23,
   "metadata": {},
   "outputs": [],
   "source": [
    "def find_a_candidate(x_init, lower_bound=0, upper_bound=1):\n",
    "    # transform x to an unconstrained domain\n",
    "    constraint = constraints.interval(lower_bound, upper_bound)\n",
    "    unconstrained_x_init = transform_to(constraint).inv(x_init)\n",
    "    unconstrained_x = unconstrained_x_init.clone().detach().requires_grad_(True)\n",
    "    minimizer = optim.LBFGS([unconstrained_x])\n",
    "\n",
    "    def closure():\n",
    "        minimizer.zero_grad()\n",
    "        x = transform_to(constraint)(unconstrained_x)\n",
    "        y = lower_confidence_bound(x)\n",
    "#         print(y.shape)\n",
    "#         print(unconstrained_x.shape)\n",
    "        fff=autograd.grad(y, unconstrained_x)\n",
    "        autograd.backward(unconstrained_x, fff)\n",
    "        return y\n",
    "\n",
    "    minimizer.step(closure)\n",
    "    # after finding a candidate in the unconstrained domain,\n",
    "    # convert it back to original domain.\n",
    "    x = transform_to(constraint)(unconstrained_x)\n",
    "    return x.detach()"
   ]
  },
  {
   "cell_type": "code",
   "execution_count": 24,
   "metadata": {},
   "outputs": [
    {
     "data": {
      "text/plain": [
       "torch.Size([1, 2])"
      ]
     },
     "execution_count": 24,
     "metadata": {},
     "output_type": "execute_result"
    }
   ],
   "source": [
    "gpmodel.X[-1:].shape"
   ]
  },
  {
   "cell_type": "code",
   "execution_count": 25,
   "metadata": {},
   "outputs": [],
   "source": [
    "def next_x(lower_bound=0, upper_bound=1, num_candidates=5):\n",
    "    candidates = []\n",
    "    values = []\n",
    "\n",
    "    x_init = gpmodel.X[-1:]\n",
    "    for i in range(num_candidates):\n",
    "        x = find_a_candidate(x_init, lower_bound, upper_bound)\n",
    "        y = lower_confidence_bound(x)\n",
    "        candidates.append(x)\n",
    "        values.append(y)\n",
    "        x_init = x.new_empty(1, 2).uniform_(lower_bound, upper_bound)\n",
    "\n",
    "    argmin = torch.min(torch.cat(values), dim=0)[1].item()\n",
    "    return candidates[argmin]"
   ]
  },
  {
   "cell_type": "code",
   "execution_count": 26,
   "metadata": {},
   "outputs": [],
   "source": [
    "# plt.figure(figsize=(12, 30))\n",
    "outer_gs = gridspec.GridSpec(5, 2)\n",
    "optimizer = torch.optim.Adam(gpmodel.parameters(), lr=0.001)\n",
    "gp.util.train(gpmodel, optimizer)\n",
    "for i in range(8):\n",
    "    xmin = next_x()\n",
    "    gs = gridspec.GridSpecFromSubplotSpec(2, 1, subplot_spec=outer_gs[i])\n",
    "#     plot(gs, xmin, xlabel=i+1, with_title=(i % 2 == 0))\n",
    "    update_posterior(xmin)\n",
    "# plt.show()"
   ]
  },
  {
   "cell_type": "code",
   "execution_count": 28,
   "metadata": {},
   "outputs": [
    {
     "data": {
      "text/plain": [
       "tensor([1.7492])"
      ]
     },
     "execution_count": 28,
     "metadata": {},
     "output_type": "execute_result"
    }
   ],
   "source": [
    "xmin.sum(1)"
   ]
  },
  {
   "cell_type": "code",
   "execution_count": null,
   "metadata": {},
   "outputs": [],
   "source": []
  },
  {
   "cell_type": "code",
   "execution_count": null,
   "metadata": {},
   "outputs": [],
   "source": []
  }
 ],
 "metadata": {
  "kernelspec": {
   "display_name": "Environment (conda_miniconda3-latest)",
   "language": "python",
   "name": "conda_miniconda3-latest"
  },
  "language_info": {
   "codemirror_mode": {
    "name": "ipython",
    "version": 3
   },
   "file_extension": ".py",
   "mimetype": "text/x-python",
   "name": "python",
   "nbconvert_exporter": "python",
   "pygments_lexer": "ipython3",
   "version": "3.7.1"
  }
 },
 "nbformat": 4,
 "nbformat_minor": 2
}
